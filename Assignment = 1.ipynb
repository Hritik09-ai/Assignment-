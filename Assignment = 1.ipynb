{
 "cells": [
  {
   "cell_type": "code",
   "execution_count": 2,
   "id": "fd3f70fe-11c5-48df-b72f-b6652cd7f938",
   "metadata": {},
   "outputs": [],
   "source": [
    "#Question=1 Create one variable containing following types of data:\n",
    "#(a)String\n",
    "#(b)list\n",
    "#(c)float\n",
    "#(d)tuple"
   ]
  },
  {
   "cell_type": "code",
   "execution_count": 3,
   "id": "0350723f-3c98-4617-8b4c-460cc9914ab3",
   "metadata": {},
   "outputs": [],
   "source": [
    "# Answer"
   ]
  },
  {
   "cell_type": "code",
   "execution_count": 6,
   "id": "f689206b-6e5b-4f73-880d-98702bf5c62f",
   "metadata": {},
   "outputs": [],
   "source": [
    "A = \"String Variable\" , [1,2,3,4,5] , 43.4 , (\"hii\")"
   ]
  },
  {
   "cell_type": "code",
   "execution_count": 8,
   "id": "870e9977-5ef0-4e8b-8f80-6daea3d743f8",
   "metadata": {},
   "outputs": [],
   "source": [
    "#Question=2 Given are some following variable contaning data:\n",
    "#(a)var1 = ''\n",
    "#(b)var2 = '[ DS , ML , Python ]'\n",
    "#(c)var3 = [ 'DS , ML , Python' ]\n",
    "#(d)var4 = 1.\n",
    "# What will be the data type of the above given variable."
   ]
  },
  {
   "cell_type": "code",
   "execution_count": 9,
   "id": "49a8b718-9b7a-4d13-9531-77e5c497b7bd",
   "metadata": {},
   "outputs": [],
   "source": [
    "#Answer\n",
    "The data type of the variable 'var1' is a Empty string\n",
    "The data type of the variable 'var2' is a string\n",
    "The data type of the variable 'var3' is a list\n",
    "The data type of the variable 'var4' is a float"
   ]
  },
  {
   "cell_type": "code",
   "execution_count": 12,
   "id": "63ac7943-9774-4926-8238-b164b2f93179",
   "metadata": {},
   "outputs": [],
   "source": [
    "# Explain the use of the following operator using example:\n",
    "#(a)/\n",
    "#(b)%\n",
    "#(c)//\n",
    "#(d)**"
   ]
  },
  {
   "cell_type": "code",
   "execution_count": 24,
   "id": "20482f5f-7f49-4155-8681-caeb237ff1b8",
   "metadata": {},
   "outputs": [],
   "source": [
    "#Answer(a)\n",
    "A = 10/2"
   ]
  },
  {
   "cell_type": "code",
   "execution_count": 25,
   "id": "e34f2797-a277-4df6-b9e1-ec542c1604d4",
   "metadata": {},
   "outputs": [
    {
     "name": "stdout",
     "output_type": "stream",
     "text": [
      "5.0\n"
     ]
    }
   ],
   "source": [
    "print(A) # The forward slash is used as the division operator."
   ]
  },
  {
   "cell_type": "code",
   "execution_count": 26,
   "id": "1fbd5265-4df9-4a8c-8873-a99174e927b6",
   "metadata": {},
   "outputs": [],
   "source": [
    "#answer(b)\n",
    "B = 13 % 2"
   ]
  },
  {
   "cell_type": "code",
   "execution_count": 27,
   "id": "5c0a5649-a7c5-45e1-934d-ef2ce505a7cd",
   "metadata": {},
   "outputs": [
    {
     "name": "stdout",
     "output_type": "stream",
     "text": [
      "1\n"
     ]
    }
   ],
   "source": [
    "print(B) # The percent symbol is used to calculate the reminder of a division operation between 2 number"
   ]
  },
  {
   "cell_type": "code",
   "execution_count": 28,
   "id": "b671d197-5947-4de5-a1a6-7dcbe7a8c55c",
   "metadata": {},
   "outputs": [],
   "source": [
    "#answer(c)\n",
    "a = 19 // 2"
   ]
  },
  {
   "cell_type": "code",
   "execution_count": 29,
   "id": "3d45ca05-e09f-4457-99b4-d7b9b6ffcf2e",
   "metadata": {},
   "outputs": [
    {
     "name": "stdout",
     "output_type": "stream",
     "text": [
      "9\n"
     ]
    }
   ],
   "source": [
    "print(a) # This // operator divide the first number by second number and round the the result down to nearest integer."
   ]
  },
  {
   "cell_type": "code",
   "execution_count": 30,
   "id": "0de759d5-6b21-49de-930a-a41539981352",
   "metadata": {},
   "outputs": [],
   "source": [
    "#answer(d)\n",
    "a = 2**3"
   ]
  },
  {
   "cell_type": "code",
   "execution_count": 31,
   "id": "548bc59e-4a76-4b87-845b-c7c5638d2de9",
   "metadata": {},
   "outputs": [
    {
     "name": "stdout",
     "output_type": "stream",
     "text": [
      "8\n"
     ]
    }
   ],
   "source": [
    "print(a) # The double asterisk can be used to calculate the power of a number"
   ]
  },
  {
   "cell_type": "code",
   "execution_count": 32,
   "id": "f08a8d2d-27e3-4459-b93b-a85ff5606e19",
   "metadata": {},
   "outputs": [],
   "source": [
    "# Question = 4 create a list of length 10 of your choice containing multiple types of data. using for loop print the element and its data type. "
   ]
  },
  {
   "cell_type": "code",
   "execution_count": 37,
   "id": "3d10fcfa-3688-463d-b441-a7a053b5a43e",
   "metadata": {},
   "outputs": [],
   "source": [
    "L = [1,2,3,4 , 'hello' , 'hii' , 45.67 , 45.44 , True , 55+5j]"
   ]
  },
  {
   "cell_type": "code",
   "execution_count": 42,
   "id": "8d46a570-a914-405b-80fb-e7a03a6b21a5",
   "metadata": {},
   "outputs": [
    {
     "name": "stdout",
     "output_type": "stream",
     "text": [
      "1 <class 'int'>\n",
      "2 <class 'int'>\n",
      "3 <class 'int'>\n",
      "4 <class 'int'>\n",
      "hello <class 'str'>\n",
      "hii <class 'str'>\n",
      "45.67 <class 'float'>\n",
      "45.44 <class 'float'>\n",
      "True <class 'bool'>\n",
      "(55+5j) <class 'complex'>\n"
     ]
    }
   ],
   "source": [
    "for(i) in L :\n",
    "    print(i , type(i))"
   ]
  },
  {
   "cell_type": "code",
   "execution_count": 43,
   "id": "be519dbd-b224-4e1a-ba97-bce9216dd415",
   "metadata": {},
   "outputs": [],
   "source": [
    "# ouestion= 5 Using a while loop. verify if the number A is purely divisible by B and if so then how many times it can be divisible."
   ]
  },
  {
   "cell_type": "code",
   "execution_count": 44,
   "id": "0045210c-5216-4a00-973e-053735d10261",
   "metadata": {},
   "outputs": [],
   "source": [
    "a = 36 \n",
    "b = 6 \n",
    "count = 0 \n",
    "while a % b == 0 :\n",
    "    a/=b \n",
    "    count += 1"
   ]
  },
  {
   "cell_type": "code",
   "execution_count": 46,
   "id": "e72bd8db-874b-419a-a248-f874cd6b0287",
   "metadata": {},
   "outputs": [
    {
     "name": "stdout",
     "output_type": "stream",
     "text": [
      "1.0 2\n"
     ]
    }
   ],
   "source": [
    "print(a%b,count)"
   ]
  },
  {
   "cell_type": "code",
   "execution_count": 47,
   "id": "f00ab28c-a921-4992-9ee7-818a73b5a1d0",
   "metadata": {},
   "outputs": [],
   "source": [
    "#Question= 6 Create a list contaning 25 int type data. using for loop and if else condition print if the element is divisible by 3 or not."
   ]
  },
  {
   "cell_type": "code",
   "execution_count": 48,
   "id": "d2f95431-16fc-457c-af32-c6262a234d29",
   "metadata": {},
   "outputs": [],
   "source": [
    "a = [18 , 22 , 37 , 43 , 58 , 64 , 73 , 90 , 106 , 118 , 121 , 133 , 149, 154 , 169, 201 , 216 , 223 , 235 , 248 , 253 , 268]"
   ]
  },
  {
   "cell_type": "code",
   "execution_count": 49,
   "id": "c2544a72-952c-4e01-958c-5b5c9a7a81b8",
   "metadata": {},
   "outputs": [
    {
     "name": "stdout",
     "output_type": "stream",
     "text": [
      "i is divisible by 3\n",
      "i is not divisible by 3\n",
      "i is not divisible by 3\n",
      "i is not divisible by 3\n",
      "i is not divisible by 3\n",
      "i is not divisible by 3\n",
      "i is not divisible by 3\n",
      "i is divisible by 3\n",
      "i is not divisible by 3\n",
      "i is not divisible by 3\n",
      "i is not divisible by 3\n",
      "i is not divisible by 3\n",
      "i is not divisible by 3\n",
      "i is not divisible by 3\n",
      "i is not divisible by 3\n",
      "i is divisible by 3\n",
      "i is divisible by 3\n",
      "i is not divisible by 3\n",
      "i is not divisible by 3\n",
      "i is not divisible by 3\n",
      "i is not divisible by 3\n",
      "i is not divisible by 3\n"
     ]
    }
   ],
   "source": [
    "for i in a :\n",
    "    if i % 3 == 0 :\n",
    "        print('i is divisible by 3')\n",
    "    else :\n",
    "        print('i is not divisible by 3')"
   ]
  },
  {
   "cell_type": "code",
   "execution_count": 50,
   "id": "096329d5-f809-495d-89b0-24909453753c",
   "metadata": {},
   "outputs": [],
   "source": [
    "# oustion = 7 What do you understand about mutable and immutable data types?give example for both showing this property."
   ]
  },
  {
   "cell_type": "code",
   "execution_count": 51,
   "id": "6f55960f-27d6-4431-9935-85b6f0f413ca",
   "metadata": {},
   "outputs": [],
   "source": [
    "#answer \n",
    "#mutable data types allow modifications to their state after creation,while immutable data types do not allow any changes once they created."
   ]
  },
  {
   "cell_type": "code",
   "execution_count": 52,
   "id": "4c86035c-621f-46b2-8ae2-3a43b8df969e",
   "metadata": {},
   "outputs": [],
   "source": [
    "a = [1,2,3,4,5]"
   ]
  },
  {
   "cell_type": "code",
   "execution_count": 53,
   "id": "391f3819-7d0a-4220-8351-39a771e2e0d5",
   "metadata": {},
   "outputs": [
    {
     "name": "stdout",
     "output_type": "stream",
     "text": [
      "[1, 2, 3, 4, 5]\n"
     ]
    }
   ],
   "source": [
    "print(a)"
   ]
  },
  {
   "cell_type": "code",
   "execution_count": 54,
   "id": "58e25095-50ba-421f-a980-664249066164",
   "metadata": {},
   "outputs": [],
   "source": [
    "a[1]=66 "
   ]
  },
  {
   "cell_type": "code",
   "execution_count": 55,
   "id": "8b197d3a-1a18-49ab-906d-738a9b7feb26",
   "metadata": {},
   "outputs": [
    {
     "name": "stdout",
     "output_type": "stream",
     "text": [
      "[1, 66, 3, 4, 5]\n"
     ]
    }
   ],
   "source": [
    "print(a)"
   ]
  },
  {
   "cell_type": "code",
   "execution_count": 56,
   "id": "2ced1301-2da0-4183-9089-4949a536b808",
   "metadata": {},
   "outputs": [],
   "source": [
    "b = (1,2,3,4,5)"
   ]
  },
  {
   "cell_type": "code",
   "execution_count": 57,
   "id": "f483ce3d-407c-42e6-8be6-003d93bece8f",
   "metadata": {},
   "outputs": [
    {
     "data": {
      "text/plain": [
       "(1, 2, 3, 4, 5)"
      ]
     },
     "execution_count": 57,
     "metadata": {},
     "output_type": "execute_result"
    }
   ],
   "source": [
    "b"
   ]
  },
  {
   "cell_type": "code",
   "execution_count": 58,
   "id": "58659712-424f-42fd-a3f3-64c63f959c42",
   "metadata": {},
   "outputs": [
    {
     "ename": "TypeError",
     "evalue": "'tuple' object does not support item assignment",
     "output_type": "error",
     "traceback": [
      "\u001b[0;31m---------------------------------------------------------------------------\u001b[0m",
      "\u001b[0;31mTypeError\u001b[0m                                 Traceback (most recent call last)",
      "Cell \u001b[0;32mIn[58], line 1\u001b[0m\n\u001b[0;32m----> 1\u001b[0m \u001b[43mb\u001b[49m\u001b[43m[\u001b[49m\u001b[38;5;241;43m1\u001b[39;49m\u001b[43m]\u001b[49m\u001b[38;5;241m=\u001b[39m\u001b[38;5;241m44\u001b[39m\n",
      "\u001b[0;31mTypeError\u001b[0m: 'tuple' object does not support item assignment"
     ]
    }
   ],
   "source": [
    "b[1]=44"
   ]
  },
  {
   "cell_type": "code",
   "execution_count": null,
   "id": "0a72a338-5126-4fd4-9d03-93d6030ef9fd",
   "metadata": {},
   "outputs": [],
   "source": [
    "#list are mutable and tuples are immutable."
   ]
  }
 ],
 "metadata": {
  "kernelspec": {
   "display_name": "Python 3 (ipykernel)",
   "language": "python",
   "name": "python3"
  },
  "language_info": {
   "codemirror_mode": {
    "name": "ipython",
    "version": 3
   },
   "file_extension": ".py",
   "mimetype": "text/x-python",
   "name": "python",
   "nbconvert_exporter": "python",
   "pygments_lexer": "ipython3",
   "version": "3.10.8"
  }
 },
 "nbformat": 4,
 "nbformat_minor": 5
}
